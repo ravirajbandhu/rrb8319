{
  "nbformat": 4,
  "nbformat_minor": 0,
  "metadata": {
    "colab": {
      "name": "002_conditionals.ipynb",
      "version": "0.3.2",
      "provenance": []
    },
    "kernelspec": {
      "display_name": "Python 3",
      "language": "python",
      "name": "python3"
    }
  },
  "cells": [
    {
      "metadata": {
        "id": "79FBj0wuv5Pf",
        "colab_type": "text"
      },
      "cell_type": "markdown",
      "source": [
        "# 002_conditionals\n",
        "\n",
        "[Source](https://github.com/iArunava/Python-TheNoTheoryGuide/)"
      ]
    },
    {
      "metadata": {
        "id": "MhdTRZUBv5Pi",
        "colab_type": "text"
      },
      "cell_type": "markdown",
      "source": [
        "## Conditional Blocks"
      ]
    },
    {
      "metadata": {
        "id": "ERB6Ja--v5Pk",
        "colab_type": "code",
        "colab": {
          "base_uri": "https://localhost:8080/",
          "height": 35
        },
        "outputId": "160b74ac-d390-4f81-e443-810b025cfdf1"
      },
      "cell_type": "code",
      "source": [
        "# if..else\n",
        "v1 = 5\n",
        "if v1 == 5:\n",
        "    print (v1)\n",
        "else:\n",
        "    print (\"v1 is not 5\")"
      ],
      "execution_count": 1,
      "outputs": [
        {
          "output_type": "stream",
          "text": [
            "5\n"
          ],
          "name": "stdout"
        }
      ]
    },
    {
      "metadata": {
        "id": "RKMwM78kv5Pp",
        "colab_type": "code",
        "colab": {
          "base_uri": "https://localhost:8080/",
          "height": 35
        },
        "outputId": "37575e66-2364-4585-d572-891c88544f6b"
      },
      "cell_type": "code",
      "source": [
        "# if..elif..else\n",
        "s1 = \"Jennifer\"\n",
        "s2 = \"loves\"\n",
        "s3 = \"Python\"\n",
        "if s1 == \"Python\":\n",
        "    print (\"s1 is Python\")\n",
        "elif s2 == \"Jennifer\":\n",
        "    print (\"s2 is Jennifer\")\n",
        "elif s1 == \"loves\":\n",
        "    print (\"s1 is loves\")\n",
        "else:\n",
        "    print (\"Jennifer loves Python!\")"
      ],
      "execution_count": 2,
      "outputs": [
        {
          "output_type": "stream",
          "text": [
            "Jennifer loves Python!\n"
          ],
          "name": "stdout"
        }
      ]
    },
    {
      "metadata": {
        "id": "tJzwrQDBv5Pt",
        "colab_type": "code",
        "colab": {
          "base_uri": "https://localhost:8080/",
          "height": 35
        },
        "outputId": "4b543a42-8353-4c59-d8f0-391b963b8263"
      },
      "cell_type": "code",
      "source": [
        "# One liner\n",
        "v1 = 5\n",
        "x = 10 if v1 == 5 else 13\n",
        "print (x)"
      ],
      "execution_count": 3,
      "outputs": [
        {
          "output_type": "stream",
          "text": [
            "10\n"
          ],
          "name": "stdout"
        }
      ]
    },
    {
      "metadata": {
        "id": "QM8MJBIqv5Px",
        "colab_type": "code",
        "colab": {
          "base_uri": "https://localhost:8080/",
          "height": 280
        },
        "outputId": "367556d8-83b0-45c0-c068-fe2599045f65"
      },
      "cell_type": "code",
      "source": [
        "# Let's see the conditionals available\n",
        "v1 = \"Jennifer\"\n",
        "v2 = \"Python\"\n",
        "v3 = 45\n",
        "v4 = 67\n",
        "v5 = 45\n",
        "\n",
        "# Test for equality\n",
        "print (v1 == v2)\n",
        "\n",
        "# Test for greater than and greater than equal\n",
        "print (v4 > v3)\n",
        "print (v5 >= v2)\n",
        "\n",
        "# Test for lesser than and lesser than equal\n",
        "print (v4 < v3)\n",
        "print (v5 <= v2)\n",
        "\n",
        "# Inequality\n",
        "print (v1 != v2)"
      ],
      "execution_count": 9,
      "outputs": [
        {
          "output_type": "stream",
          "text": [
            "False\n",
            "True\n"
          ],
          "name": "stdout"
        },
        {
          "output_type": "error",
          "ename": "TypeError",
          "evalue": "ignored",
          "traceback": [
            "\u001b[0;31m---------------------------------------------------------------------------\u001b[0m",
            "\u001b[0;31mTypeError\u001b[0m                                 Traceback (most recent call last)",
            "\u001b[0;32m<ipython-input-9-28db38ef6803>\u001b[0m in \u001b[0;36m<module>\u001b[0;34m()\u001b[0m\n\u001b[1;32m     10\u001b[0m \u001b[0;31m# Test for greater than and greater than equal\u001b[0m\u001b[0;34m\u001b[0m\u001b[0;34m\u001b[0m\u001b[0m\n\u001b[1;32m     11\u001b[0m \u001b[0mprint\u001b[0m \u001b[0;34m(\u001b[0m\u001b[0mv4\u001b[0m \u001b[0;34m>\u001b[0m \u001b[0mv3\u001b[0m\u001b[0;34m)\u001b[0m\u001b[0;34m\u001b[0m\u001b[0m\n\u001b[0;32m---> 12\u001b[0;31m \u001b[0mprint\u001b[0m \u001b[0;34m(\u001b[0m\u001b[0mv5\u001b[0m \u001b[0;34m>=\u001b[0m \u001b[0mv2\u001b[0m\u001b[0;34m)\u001b[0m\u001b[0;34m\u001b[0m\u001b[0m\n\u001b[0m\u001b[1;32m     13\u001b[0m \u001b[0;34m\u001b[0m\u001b[0m\n\u001b[1;32m     14\u001b[0m \u001b[0;31m# Test for lesser than and lesser than equal\u001b[0m\u001b[0;34m\u001b[0m\u001b[0;34m\u001b[0m\u001b[0m\n",
            "\u001b[0;31mTypeError\u001b[0m: '>=' not supported between instances of 'int' and 'str'"
          ]
        }
      ]
    },
    {
      "metadata": {
        "id": "3zAek16uv5P2",
        "colab_type": "code",
        "colab": {
          "base_uri": "https://localhost:8080/",
          "height": 54
        },
        "outputId": "efa3f8de-5ca0-4ec6-e344-0e9245be1320"
      },
      "cell_type": "code",
      "source": [
        "# Note:\n",
        "v1 = 45\n",
        "v2 = \"45\"\n",
        "print (v1 == v2) # False\n",
        "print (str(v1) == v2) # True"
      ],
      "execution_count": 5,
      "outputs": [
        {
          "output_type": "stream",
          "text": [
            "False\n",
            "True\n"
          ],
          "name": "stdout"
        }
      ]
    },
    {
      "metadata": {
        "id": "r0B2Ox_0v5P5",
        "colab_type": "code",
        "colab": {
          "base_uri": "https://localhost:8080/",
          "height": 72
        },
        "outputId": "d4d57620-8bb0-4e7c-ffa4-3ab0d62e72fc"
      },
      "cell_type": "code",
      "source": [
        "# Ignore case when comparing two strings\n",
        "s1 = \"Jennifer\"\n",
        "s2 = \"jennifer\"\n",
        "\n",
        "print (s1 == s2) # False\n",
        "print (s1.lower() == s2.lower()) # True\n",
        "# OR\n",
        "print (s1.upper() == s2.upper()) # True"
      ],
      "execution_count": 7,
      "outputs": [
        {
          "output_type": "stream",
          "text": [
            "False\n",
            "True\n",
            "True\n"
          ],
          "name": "stdout"
        }
      ]
    },
    {
      "metadata": {
        "id": "BdJv-U1lv5P9",
        "colab_type": "code",
        "colab": {
          "base_uri": "https://localhost:8080/",
          "height": 54
        },
        "outputId": "b8bee310-cb92-44d2-bfe2-692564828e19"
      },
      "cell_type": "code",
      "source": [
        "# Checking multiple conditions 'and' and 'or'\n",
        "v1 = \"Jennifer\"\n",
        "v2 = \"Python\"\n",
        "\n",
        "# 'and' -> evaluates true when both conditions are True\n",
        "print (v1 == \"Jennifer\" and v2 == \"Python\")\n",
        "# 'or' -> evaluates true when any one condition is True\n",
        "print (v1 == \"Python\" or v2 == \"Python\")"
      ],
      "execution_count": 8,
      "outputs": [
        {
          "output_type": "stream",
          "text": [
            "True\n",
            "True\n"
          ],
          "name": "stdout"
        }
      ]
    },
    {
      "metadata": {
        "id": "_RGSlhXLv5QC",
        "colab_type": "text"
      },
      "cell_type": "markdown",
      "source": [
        "##### Note: \n",
        "When making comparisons with string with '>' or '<'\n",
        "The strings are compared lexographically."
      ]
    },
    {
      "metadata": {
        "id": "4ftIP04cv5QD",
        "colab_type": "code",
        "colab": {
          "base_uri": "https://localhost:8080/",
          "height": 35
        },
        "outputId": "b15f0f5d-1687-4cb4-92e3-92358855d66c"
      },
      "cell_type": "code",
      "source": [
        "s1 = \"Jennifer\"\n",
        "s2 = \"Python\"\n",
        "\n",
        "print (s1 > s2) # True -> since 'Jennifer' comes lexographically before 'Python'"
      ],
      "execution_count": 10,
      "outputs": [
        {
          "output_type": "stream",
          "text": [
            "False\n"
          ],
          "name": "stdout"
        }
      ]
    },
    {
      "metadata": {
        "id": "DY9hXghAv5QH",
        "colab_type": "code",
        "colab": {
          "base_uri": "https://localhost:8080/",
          "height": 90
        },
        "outputId": "75cc899b-901b-4e47-8751-2e4b1b0c7858"
      },
      "cell_type": "code",
      "source": [
        "# Check whether a value is in a list -> 'in'\n",
        "l1 = [23, 45, 67, \"Jennifer\", \"Python\", 'A']\n",
        "\n",
        "print (23 in l1)\n",
        "print ('A' in l1)\n",
        "print (\"Python\" in l1)\n",
        "print (32 in l1)"
      ],
      "execution_count": 11,
      "outputs": [
        {
          "output_type": "stream",
          "text": [
            "True\n",
            "True\n",
            "True\n",
            "False\n"
          ],
          "name": "stdout"
        }
      ]
    },
    {
      "metadata": {
        "id": "tUAX1z_Nv5QL",
        "colab_type": "code",
        "colab": {
          "base_uri": "https://localhost:8080/",
          "height": 35
        },
        "outputId": "14666764-c2ec-48eb-b609-95ef9dcf0ee8"
      },
      "cell_type": "code",
      "source": [
        "# Putting it together\n",
        "l1 = [23, 1, 'A', \"Jennifer\", 9.34]\n",
        "\n",
        "# This is True, so the other statements are not checked\n",
        "if 23 in l1 and 'B' not in l1: # Note: use of 'not'\n",
        "    print (\"1\")\n",
        "elif 23 >= l1[0]: # True\n",
        "    print (\"2\")\n",
        "elif 2.45 < l1[-1]: # True\n",
        "    print (\"3\")"
      ],
      "execution_count": 12,
      "outputs": [
        {
          "output_type": "stream",
          "text": [
            "1\n"
          ],
          "name": "stdout"
        }
      ]
    },
    {
      "metadata": {
        "id": "djVmMtFVv5QQ",
        "colab_type": "code",
        "colab": {
          "base_uri": "https://localhost:8080/",
          "height": 35
        },
        "outputId": "f603f3fe-534e-46ed-ccb5-0a770e029052"
      },
      "cell_type": "code",
      "source": [
        "# Checking if list is empty\n",
        "l1 = []\n",
        "l2 = [\"Jennifer\"]\n",
        "\n",
        "if l1:\n",
        "    print (1)\n",
        "elif l2:\n",
        "    print (2)"
      ],
      "execution_count": 13,
      "outputs": [
        {
          "output_type": "stream",
          "text": [
            "2\n"
          ],
          "name": "stdout"
        }
      ]
    }
  ]
}